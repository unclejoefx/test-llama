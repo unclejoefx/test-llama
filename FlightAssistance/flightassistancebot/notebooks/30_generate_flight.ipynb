{
 "cells": [
  {
   "cell_type": "code",
   "execution_count": 1,
   "metadata": {},
   "outputs": [],
   "source": [
    "# Import necessary libraries\n",
    "import requests\n",
    "from bs4 import BeautifulSoup\n",
    "import time\n",
    "import re\n",
    "import os"
   ]
  },
  {
   "cell_type": "code",
   "execution_count": 8,
   "metadata": {},
   "outputs": [],
   "source": [
    "base_url = 'https://flyairpeace.com/'\n",
    "output_path = '../data/flights'\n",
    "bs_parser = 'html.parser'\n",
    "delay_sec = 5\n",
    "\n",
    "if not os.path.exists(output_path):\n",
    "    os.makedirs(output_path)"
   ]
  },
  {
   "cell_type": "code",
   "execution_count": 9,
   "metadata": {},
   "outputs": [],
   "source": [
    "# 1. Look for Flights\n",
    "def look_for_flights(departure, destination, travel_date):\n",
    "    \"\"\"\n",
    "    Search for available flights based on departure, destination, and travel date.\n",
    "    \"\"\"\n",
    "    print(f\"Searching for flights from {departure} to {destination} on {travel_date}...\")\n",
    "    \n",
    "    # Simulate delay\n",
    "    time.sleep(delay_sec)\n",
    "\n",
    "    # Make a request to the site (you might need to inspect and adjust the form request)\n",
    "    search_url = f\"{base_url}/flights/search\"  # Hypothetical URL\n",
    "    params = {\n",
    "        'departure': departure,\n",
    "        'destination': destination,\n",
    "        'date': travel_date\n",
    "    }\n",
    "    response = requests.get(search_url, params=params)\n",
    "    \n",
    "    if response.status_code == 200:\n",
    "        soup = BeautifulSoup(response.text, 'html.parser')\n",
    "        # Assuming flights are listed in <div> elements with class 'flight-card'\n",
    "        flights = soup.find_all('div', class_='home page-template-default page page-id-7334 wp-embed-responsive groovy_menu_2-6-3 ui-a-dsmm-slide elementor-default elementor-kit-8 elementor-page elementor-page-7334 win e--ua-blink e--ua-edge e--ua-webkit')\n",
    "        \n",
    "        flight_data = []\n",
    "        for flight in flights:\n",
    "            flight_name = flight.find('div', class_='grid sm:grid-cols-1 md:grid-cols-4 gap-2 text-xs flex-col md:flex-row w-full items-start ').text.strip()\n",
    "            price = flight.find('span', class_='gm-menu-item__txt').text.strip()\n",
    "            departure_time = flight.find('span', class_='elementor-icon-list-text').text.strip()\n",
    "            arrival_time = flight.find('span', class_='elementor-icon-list-text').text.strip()\n",
    "            # stops = flight.find('span', class_='#').text.strip()\n",
    "            \n",
    "            flight_data.append({\n",
    "                'Flight Name': flight_name,\n",
    "                'Price': price,\n",
    "                'Departure Time': departure_time,\n",
    "                'Arrival Time': arrival_time,\n",
    "                # 'Stops': stops\n",
    "            })\n",
    "        \n",
    "        return flight_data\n",
    "    else:\n",
    "        print(f\"Failed to fetch flights: {response.status_code}\")\n",
    "        return []"
   ]
  },
  {
   "cell_type": "code",
   "execution_count": 10,
   "metadata": {},
   "outputs": [],
   "source": [
    "# 2. Book a Flight\n",
    "def book_flight(flight, passenger_details):\n",
    "    \"\"\"\n",
    "    Simulate booking a flight with the provided flight details and passenger information.\n",
    "    \"\"\"\n",
    "    print(f\"Booking flight: {flight['Flight Name']}...\")\n",
    "    \n",
    "    # Simulate delay\n",
    "    time.sleep(delay_sec)\n",
    "    \n",
    "    # Hypothetical POST request to book a flight\n",
    "    booking_url = f\"{base_url}/book\"\n",
    "    payload = {\n",
    "        'flight': flight,\n",
    "        'passenger': passenger_details\n",
    "    }\n",
    "    \n",
    "    response = requests.post(booking_url, data=payload)\n",
    "    \n",
    "    if response.status_code == 200:\n",
    "        print(f\"Flight booked successfully for {passenger_details['First Name']} {passenger_details['Last Name']}!\")\n",
    "    else:\n",
    "        print(f\"Failed to book flight: {response.status_code}\")"
   ]
  },
  {
   "cell_type": "code",
   "execution_count": 11,
   "metadata": {},
   "outputs": [],
   "source": [
    "# 3. Get User Information\n",
    "def get_user_information():\n",
    "    \"\"\"\n",
    "    Gather user's personal information: first name, last name, phone, and email.\n",
    "    \"\"\"\n",
    "    first_name = input(\"Enter your first name: \")\n",
    "    last_name = input(\"Enter your last name: \")\n",
    "    phone = input(\"Enter your phone number: \")\n",
    "    email = input(\"Enter your email address: \")\n",
    "    \n",
    "    # Simple validation (optional)\n",
    "    if not re.match(r\"[^@]+@[^@]+\\.[^@]+\", email):\n",
    "        print(\"Invalid email address!\")\n",
    "        return None\n",
    "    \n",
    "    user_info = {\n",
    "        'First Name': first_name,\n",
    "        'Last Name': last_name,\n",
    "        'Phone': phone,\n",
    "        'Email': email\n",
    "    }\n",
    "    \n",
    "    return user_info"
   ]
  },
  {
   "cell_type": "code",
   "execution_count": 12,
   "metadata": {},
   "outputs": [
    {
     "name": "stdout",
     "output_type": "stream",
     "text": [
      "Searching for flights from Lagos to Abuja on 2024-10-25...\n",
      "Failed to fetch flights: 404\n",
      "No flights found.\n"
     ]
    }
   ],
   "source": [
    "# Example Usage\n",
    "\n",
    "# Step 1: Get User Information\n",
    "user_info = get_user_information()\n",
    "if user_info:\n",
    "    # Step 2: Search for Flights\n",
    "    departure_city = input(\"Enter departure city: \")\n",
    "    destination_city = input(\"Enter destination city: \")\n",
    "    travel_date = input(\"Enter travel date (YYYY-MM-DD): \")\n",
    "    \n",
    "    flights = look_for_flights(departure_city, destination_city, travel_date)\n",
    "    \n",
    "    if flights:\n",
    "        print(\"Available flights:\")\n",
    "        for i, flight in enumerate(flights):\n",
    "            print(f\"{i + 1}. {flight['Flight Name']} - {flight['Price']}\")\n",
    "        \n",
    "        # Step 3: Book a Flight\n",
    "        flight_choice = int(input(\"Select a flight to book (enter number): \"))\n",
    "        selected_flight = flights[flight_choice - 1]\n",
    "        \n",
    "        book_flight(selected_flight, user_info)\n",
    "    else:\n",
    "        print(\"No flights found.\")"
   ]
  }
 ],
 "metadata": {
  "kernelspec": {
   "display_name": "Python 3",
   "language": "python",
   "name": "python3"
  },
  "language_info": {
   "codemirror_mode": {
    "name": "ipython",
    "version": 3
   },
   "file_extension": ".py",
   "mimetype": "text/x-python",
   "name": "python",
   "nbconvert_exporter": "python",
   "pygments_lexer": "ipython3",
   "version": "3.11.5"
  }
 },
 "nbformat": 4,
 "nbformat_minor": 2
}
